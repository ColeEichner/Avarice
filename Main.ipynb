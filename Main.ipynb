{
 "cells": [
  {
   "cell_type": "code",
   "execution_count": null,
   "metadata": {},
   "outputs": [
    {
     "name": "stdin",
     "output_type": "stream",
     "text": [
      "What is your name?  sarah\n",
      "How many hours do you work?  678\n",
      "What is your current wage?  68\n",
      "How many weeks do you work in a year? 75\n",
      "What is your 401k contribution? 8\n",
      "Do you pay taxes (yes or no) yes\n"
     ]
    },
    {
     "name": "stdout",
     "output_type": "stream",
     "text": [
      "nice!\n"
     ]
    },
    {
     "name": "stdin",
     "output_type": "stream",
     "text": [
      "What is your federal tax rate? (decimal number) .87\n",
      "WHat is your state tax rate? .007\n"
     ]
    }
   ],
   "source": [
    "name = input(prompt=\"What is your name? \")\n",
    "hours = float(input(prompt = \"How many hours do you work? \"))\n",
    "wage = float(input(prompt = \"What is your current wage? \"))\n",
    "weeks = int(input(prompt = \"How many weeks do you work in a year?\"))\n",
    "retire = float(input(prompt = \"What is your 401k contribution?\"))\n",
    "pay = (input(prompt = \"Do you pay taxes (yes or no)\"))\n",
    "income = hours * wage * weeks\n",
    "taxable = income - retire\n",
    "if(pay == \"yes\"):\n",
    "    print(\"nice!\")\n",
    "    ftax_rate = float(input(prompt = \"What is your federal tax rate? (decimal number)\"))\n",
    "    ftax = taxable * ftax_rate\n",
    "    stax_rate = float(input(prompt = \"WHat is your state tax rate?\"))\n",
    "    stax = taxable * stax_rate\n",
    "    ltax_rate = float(input(prompt = \"What is yout local tax rate?\"))\n",
    "    ltax = taxable * ltax_rate\n",
    "    takehome = taxable - (ftax+stax+ltax)\n",
    "else:\n",
    "    takehome = taxable\n",
    "    print(\"oof\")   \n",
    "\n",
    "print(name,\"earns\", hours * wage, \"dollars in\", hours, \"hours per week.\")\n",
    "print(\"Their total yearly income is:\", income)\n",
    "print(\"Their takehome income is :\", takehome)\n",
    "\n",
    "if(pay == 'yes'):\n",
    "    print(\"Their federal tax amount due is:\", ftax)\n",
    "    print(\"Their state tax amount due is:\", stax)\n",
    "    print(\"Their local tax amount due is:\", ltax)\n",
    "    print(':)')\n",
    "elif(pay == 'no'):\n",
    "    print(\"They do not pay taxes :( \")\n",
    "else:\n",
    "    print(\"They are bad at reading directions :( \")\n",
    "\n"
   ]
  },
  {
   "cell_type": "code",
   "execution_count": null,
   "metadata": {},
   "outputs": [],
   "source": []
  }
 ],
 "metadata": {
  "kernelspec": {
   "display_name": "Python 3",
   "language": "python",
   "name": "python3"
  },
  "language_info": {
   "codemirror_mode": {
    "name": "ipython",
    "version": 3
   },
   "file_extension": ".py",
   "mimetype": "text/x-python",
   "name": "python",
   "nbconvert_exporter": "python",
   "pygments_lexer": "ipython3",
   "version": "3.8.3"
  }
 },
 "nbformat": 4,
 "nbformat_minor": 5
}
