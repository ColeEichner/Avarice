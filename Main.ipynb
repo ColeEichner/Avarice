{
 "cells": [
  {
   "cell_type": "code",
   "execution_count": 6,
   "id": "59397504-eb29-4672-81d2-93094059c7c5",
   "metadata": {},
   "outputs": [
    {
     "name": "stdin",
     "output_type": "stream",
     "text": [
      "What is your name?  30\n",
      "How many hours do you work?  40\n",
      "What is your current wage?  15.5\n"
     ]
    },
    {
     "name": "stdout",
     "output_type": "stream",
     "text": [
      "30 earned 620.0 dollars in 40 hours.\n"
     ]
    }
   ],
   "source": [
    "name = input(prompt=\"What is your name? \")\n",
    "hours = int(input(prompt = \"How many hours do you work? \"))\n",
    "wage = float(input(prompt = \"What is your current wage? \"))\n",
    "\n",
    "print(name,\"earned\", hours * wage, \"dollars in\", hours, \"hours.\")\n"
   ]
  },
  {
   "cell_type": "code",
   "execution_count": null,
   "id": "afde7399-c125-4643-b562-033be3c37016",
   "metadata": {},
   "outputs": [],
   "source": []
  }
 ],
 "metadata": {
  "kernelspec": {
   "display_name": "Python 3 (ipykernel)",
   "language": "python",
   "name": "python3"
  },
  "language_info": {
   "codemirror_mode": {
    "name": "ipython",
    "version": 3
   },
   "file_extension": ".py",
   "mimetype": "text/x-python",
   "name": "python",
   "nbconvert_exporter": "python",
   "pygments_lexer": "ipython3",
   "version": "3.9.7"
  }
 },
 "nbformat": 4,
 "nbformat_minor": 5
}
